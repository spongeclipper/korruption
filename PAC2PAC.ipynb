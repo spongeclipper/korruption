{
  "nbformat": 4,
  "nbformat_minor": 0,
  "metadata": {
    "colab": {
      "name": "PAC2PAC.ipynb",
      "version": "0.3.2",
      "provenance": [],
      "collapsed_sections": [],
      "include_colab_link": true
    },
    "kernelspec": {
      "name": "python3",
      "display_name": "Python 3"
    }
  },
  "cells": [
    {
      "cell_type": "markdown",
      "metadata": {
        "id": "view-in-github",
        "colab_type": "text"
      },
      "source": [
        "[View in Colaboratory](https://colab.research.google.com/github/spongeclipper/korruption/blob/master/PAC2PAC.ipynb)"
      ]
    },
    {
      "metadata": {
        "id": "93jS8iPsx1Zr",
        "colab_type": "code",
        "colab": {
          "base_uri": "https://localhost:8080/",
          "height": 505
        },
        "outputId": "a52daaea-1225-481e-a5ed-881fbdbbd8bb"
      },
      "cell_type": "code",
      "source": [
        "#@title Download the pac2pac donations list for 2017-2018.\n",
        "import collections, datetime, os, urllib, zipfile\n",
        "\n",
        "# Download the file, and unzip it.\n",
        "urllib.request.urlretrieve('https://www.fec.gov/files/bulk-downloads/2018/oth18.zip', 'oth18.zip')\n",
        "with zipfile.ZipFile('oth18.zip') as zip_ref:\n",
        "  zip_ref.extractall('.')\n",
        "\n",
        "# Populate 'donations' with the list of transactions.  \n",
        "Donation = collections.namedtuple('Donation',\n",
        "                                  ['Recipient',\n",
        "                                   'Donor',\n",
        "                                   'Amount',\n",
        "                                   'Election',\n",
        "                                   'Date',\n",
        "                                  ])\n",
        "donations = []\n",
        "# Populate 'pacs' with the list of PACs.\n",
        "Pac = collections.namedtuple('Pac', ['Name', 'Zip', 'Employer', 'Occupation'])\n",
        "pacs = {}  # Indexed by ID\n",
        "\n",
        "# Parse that shit!\n",
        "with open('itoth.txt', 'r') as raw:\n",
        "  for l in raw.readlines():\n",
        "    parts = l.strip().split('|')\n",
        "    \n",
        "    if not parts[15]:\n",
        "      continue  # This is not a donation?\n",
        "      \n",
        "    \n",
        "    d = Donation(\n",
        "        Recipient=parts[0],\n",
        "        Donor=parts[15],\n",
        "        Amount=int(parts[14]),\n",
        "        Election=parts[3],\n",
        "        Date=datetime.datetime.strptime(parts[13], '%m%d%Y'),\n",
        "    )\n",
        "    donations.append(d)\n",
        "    \n",
        "    pacs[parts[15]] = Pac(\n",
        "        Name=parts[7],\n",
        "        Zip=parts[10],\n",
        "        Employer=parts[11],\n",
        "        Occupation=parts[12],\n",
        "    )\n",
        "\n",
        "print('Parsed %d donations and %d entities' % (len(donations), len(pacs)))\n",
        "  "
      ],
      "execution_count": 59,
      "outputs": [
        {
          "output_type": "error",
          "ename": "ValueError",
          "evalue": "ignored",
          "traceback": [
            "\u001b[0;31m---------------------------------------------------------------------------\u001b[0m",
            "\u001b[0;31mValueError\u001b[0m                                Traceback (most recent call last)",
            "\u001b[0;32m<ipython-input-59-16735d4b84db>\u001b[0m in \u001b[0;36m<module>\u001b[0;34m()\u001b[0m\n\u001b[1;32m     33\u001b[0m         \u001b[0mAmount\u001b[0m\u001b[0;34m=\u001b[0m\u001b[0mint\u001b[0m\u001b[0;34m(\u001b[0m\u001b[0mparts\u001b[0m\u001b[0;34m[\u001b[0m\u001b[0;36m14\u001b[0m\u001b[0;34m]\u001b[0m\u001b[0;34m)\u001b[0m\u001b[0;34m,\u001b[0m\u001b[0;34m\u001b[0m\u001b[0m\n\u001b[1;32m     34\u001b[0m         \u001b[0mElection\u001b[0m\u001b[0;34m=\u001b[0m\u001b[0mparts\u001b[0m\u001b[0;34m[\u001b[0m\u001b[0;36m3\u001b[0m\u001b[0;34m]\u001b[0m\u001b[0;34m,\u001b[0m\u001b[0;34m\u001b[0m\u001b[0m\n\u001b[0;32m---> 35\u001b[0;31m         \u001b[0mDate\u001b[0m\u001b[0;34m=\u001b[0m\u001b[0mdatetime\u001b[0m\u001b[0;34m.\u001b[0m\u001b[0mdatetime\u001b[0m\u001b[0;34m.\u001b[0m\u001b[0mstrptime\u001b[0m\u001b[0;34m(\u001b[0m\u001b[0mparts\u001b[0m\u001b[0;34m[\u001b[0m\u001b[0;36m13\u001b[0m\u001b[0;34m]\u001b[0m\u001b[0;34m,\u001b[0m \u001b[0;34m'%m%d%Y'\u001b[0m\u001b[0;34m)\u001b[0m\u001b[0;34m,\u001b[0m\u001b[0;34m\u001b[0m\u001b[0m\n\u001b[0m\u001b[1;32m     36\u001b[0m     )\n\u001b[1;32m     37\u001b[0m     \u001b[0mdonations\u001b[0m\u001b[0;34m.\u001b[0m\u001b[0mappend\u001b[0m\u001b[0;34m(\u001b[0m\u001b[0md\u001b[0m\u001b[0;34m)\u001b[0m\u001b[0;34m\u001b[0m\u001b[0m\n",
            "\u001b[0;32m/usr/lib/python3.6/_strptime.py\u001b[0m in \u001b[0;36m_strptime_datetime\u001b[0;34m(cls, data_string, format)\u001b[0m\n\u001b[1;32m    563\u001b[0m     \"\"\"Return a class cls instance based on the input string and the\n\u001b[1;32m    564\u001b[0m     format string.\"\"\"\n\u001b[0;32m--> 565\u001b[0;31m     \u001b[0mtt\u001b[0m\u001b[0;34m,\u001b[0m \u001b[0mfraction\u001b[0m \u001b[0;34m=\u001b[0m \u001b[0m_strptime\u001b[0m\u001b[0;34m(\u001b[0m\u001b[0mdata_string\u001b[0m\u001b[0;34m,\u001b[0m \u001b[0mformat\u001b[0m\u001b[0;34m)\u001b[0m\u001b[0;34m\u001b[0m\u001b[0m\n\u001b[0m\u001b[1;32m    566\u001b[0m     \u001b[0mtzname\u001b[0m\u001b[0;34m,\u001b[0m \u001b[0mgmtoff\u001b[0m \u001b[0;34m=\u001b[0m \u001b[0mtt\u001b[0m\u001b[0;34m[\u001b[0m\u001b[0;34m-\u001b[0m\u001b[0;36m2\u001b[0m\u001b[0;34m:\u001b[0m\u001b[0;34m]\u001b[0m\u001b[0;34m\u001b[0m\u001b[0m\n\u001b[1;32m    567\u001b[0m     \u001b[0margs\u001b[0m \u001b[0;34m=\u001b[0m \u001b[0mtt\u001b[0m\u001b[0;34m[\u001b[0m\u001b[0;34m:\u001b[0m\u001b[0;36m6\u001b[0m\u001b[0;34m]\u001b[0m \u001b[0;34m+\u001b[0m \u001b[0;34m(\u001b[0m\u001b[0mfraction\u001b[0m\u001b[0;34m,\u001b[0m\u001b[0;34m)\u001b[0m\u001b[0;34m\u001b[0m\u001b[0m\n",
            "\u001b[0;32m/usr/lib/python3.6/_strptime.py\u001b[0m in \u001b[0;36m_strptime\u001b[0;34m(data_string, format)\u001b[0m\n\u001b[1;32m    360\u001b[0m     \u001b[0;32mif\u001b[0m \u001b[0;32mnot\u001b[0m \u001b[0mfound\u001b[0m\u001b[0;34m:\u001b[0m\u001b[0;34m\u001b[0m\u001b[0m\n\u001b[1;32m    361\u001b[0m         raise ValueError(\"time data %r does not match format %r\" %\n\u001b[0;32m--> 362\u001b[0;31m                          (data_string, format))\n\u001b[0m\u001b[1;32m    363\u001b[0m     \u001b[0;32mif\u001b[0m \u001b[0mlen\u001b[0m\u001b[0;34m(\u001b[0m\u001b[0mdata_string\u001b[0m\u001b[0;34m)\u001b[0m \u001b[0;34m!=\u001b[0m \u001b[0mfound\u001b[0m\u001b[0;34m.\u001b[0m\u001b[0mend\u001b[0m\u001b[0;34m(\u001b[0m\u001b[0;34m)\u001b[0m\u001b[0;34m:\u001b[0m\u001b[0;34m\u001b[0m\u001b[0m\n\u001b[1;32m    364\u001b[0m         raise ValueError(\"unconverted data remains: %s\" %\n",
            "\u001b[0;31mValueError\u001b[0m: time data '' does not match format '%m%d%Y'"
          ]
        }
      ]
    },
    {
      "metadata": {
        "id": "l-jC6VR66BT5",
        "colab_type": "code",
        "colab": {}
      },
      "cell_type": "code",
      "source": [
        "def getName(id):\n",
        "  if id in pacs:\n",
        "    return pacs[id].Name\n",
        "  return id"
      ],
      "execution_count": 0,
      "outputs": []
    },
    {
      "metadata": {
        "id": "v31PjP0A2j3W",
        "colab_type": "code",
        "colab": {
          "base_uri": "https://localhost:8080/",
          "height": 442
        },
        "outputId": "dc61b36e-ad7f-4547-f10a-f674a01cf244"
      },
      "cell_type": "code",
      "source": [
        "#@title Some basic stats\n",
        "import operator\n",
        "\n",
        "# Who's the biggest donor?\n",
        "d_amts = collections.defaultdict(int)\n",
        "r_amts = collections.defaultdict(int)\n",
        "for d in donations:\n",
        "  d_amts[d.Donor] += d.Amount\n",
        "  r_amts[d.Recipient] += d.Amount\n",
        "    \n",
        "print('Top 10 donors')\n",
        "sum_d_amts = [(getName(x[0]), x[1]) for x in sorted(d_amts.items(), key=operator.itemgetter(1))]\n",
        "sum_d_amts.reverse()\n",
        "for (n,amt) in sum_d_amts[0:10]:\n",
        "  print(n,amt)\n",
        "  \n",
        "print('\\nTop 10 recipients')\n",
        "sum_r_amts = [(getName(x[0]), x[1]) for x in sorted(r_amts.items(), key=operator.itemgetter(1))]\n",
        "sum_r_amts.reverse()\n",
        "for (n,amt) in sum_r_amts[0:10]:\n",
        "  print(n,amt)\n"
      ],
      "execution_count": 35,
      "outputs": [
        {
          "output_type": "stream",
          "text": [
            "Top 10 donors\n",
            "NRCC-NATIONAL REPUBLICAN CONGRESSIONAL COMMITTEE 50323410\n",
            "TEAM RYAN 46007785\n",
            "NATIONAL REPUBLICAN CONGRESSIONAL COMMITTEE 33045433\n",
            "DEMOCRATIC CONGRESSIONAL CAMPAIGN COMMITTEE 32961812\n",
            "REPUBLICAN NATIONAL COMMITTEE 32312588\n",
            "TRUMP MAKE AMERICA GREAT AGAIN COMMITTEE 30975445\n",
            "DNC STATE PARTY VICTORY FUND 29853560\n",
            "NATIONAL REPUBLICAN SENATORIAL COMMITTEE 24853451\n",
            "DONALD J. TRUMP FOR PRESIDENT, INC. 24761794\n",
            "RYAN FOR CONGRESS 18506281\n",
            "\n",
            "Top 10 recipients\n",
            "NRCC-NATIONAL REPUBLICAN CONGRESSIONAL COMMITTEE 99775476\n",
            "DEMOCRATIC CONGRESSIONAL CAMPAIGN COMMITTEE 49528851\n",
            "TEAM RYAN 49482693\n",
            "REPUBLICAN NATIONAL COMMITTEE 34620706\n",
            "DONALD J. TRUMP FOR PRESIDENT, INC. 31519295\n",
            "DNC STATE PARTY VICTORY FUND 27915723\n",
            "NATIONAL REPUBLICAN SENATORIAL COMMITTEE 26964070\n",
            "TRUMP MAKE AMERICA GREAT AGAIN COMMITTEE 24497927\n",
            "SENATE MAJORITY PAC 23779417\n",
            "DEMOCRATIC SENATORIAL CAMPAIGN COMMITTEE 20874831\n"
          ],
          "name": "stdout"
        }
      ]
    },
    {
      "metadata": {
        "id": "OjTBJq_v7B_r",
        "colab_type": "code",
        "colab": {
          "base_uri": "https://localhost:8080/",
          "height": 202
        },
        "outputId": "c2448c20-bc5b-4bc5-edaf-c6f4e468a46f"
      },
      "cell_type": "code",
      "source": [
        "#@title Can we find \"passthrough\" PACs by looking for those with mostly-matched negative and positive value transactions?\n",
        "pacTransactions = collections.defaultdict(list)\n",
        "for d in donations:\n",
        "  # Recipient records a balance, and donor a loss\n",
        "  pacTransactions[d.Recipient].append(d.Amount)\n",
        "  pacTransactions[d.Donor].append(0-d.Amount)\n",
        "  \n",
        "matchedVsUnmatched = collections.defaultdict(tuple)  # let's go through each PAC and count (matched, unmatched)\n",
        "for pac, transactions in pacTransactions.items():\n",
        "  matched = 0\n",
        "  unmatched = 0\n",
        "  while transactions:\n",
        "    x = transactions[0]\n",
        "    if 0-x in transactions[1:]:\n",
        "      matched+=1\n",
        "      ts = transactions[1:]\n",
        "      idx = ts.index(0-x)\n",
        "      ts = ts[:idx] + ts[idx+1:]\n",
        "      transactions = ts\n",
        "    else:\n",
        "      unmatched+=1\n",
        "      transactions = transactions[1:]\n",
        "  matchedVsUnmatched[pac] = (matched, unmatched)\n",
        "\n",
        "# Sort by matched - unmatched\n",
        "s = sorted(matchedVsUnmatched.items(), key=lambda x: x[1][0]-x[1][1])\n",
        "s.reverse()\n",
        "[(pacs[k].Name, v) for k,v in s[:10]]"
      ],
      "execution_count": 54,
      "outputs": [
        {
          "output_type": "execute_result",
          "data": {
            "text/plain": [
              "[('DNC STATE PARTY VICTORY FUND', (1920, 660)),\n",
              " ('NRCC-NATIONAL REPUBLICAN CONGRESSIONAL COMMITTEE', (1800, 584)),\n",
              " ('NATIONAL REPUBLICAN SENATORIAL COMMITTEE', (1078, 102)),\n",
              " ('DEMOCRATIC SENATORIAL CAMPAIGN COMMITTEE', (1328, 360)),\n",
              " ('DEMOCRATIC CONGRESSIONAL CAMPAIGN COMMITTEE', (1898, 1302)),\n",
              " ('HEARTLAND VALUES PAC', (435, 67)),\n",
              " ('NEW DEMOCRAT COALITION PAC', (531, 196)),\n",
              " ('ALAMO PAC', (385, 73)),\n",
              " ('TOMORROW IS MEANINGFUL PAC-TIM PAC', (324, 38)),\n",
              " ('PROJECT WEST PAC', (292, 23))]"
            ]
          },
          "metadata": {
            "tags": []
          },
          "execution_count": 54
        }
      ]
    }
  ]
}